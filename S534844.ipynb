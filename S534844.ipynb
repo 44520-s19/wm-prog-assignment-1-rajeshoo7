{
 "cells": [
  {
   "cell_type": "markdown",
   "metadata": {},
   "source": [
    "##   RAJESH KAMMARI"
   ]
  },
  {
   "cell_type": "code",
   "execution_count": 22,
   "metadata": {},
   "outputs": [
    {
     "name": "stdout",
     "output_type": "stream",
     "text": [
      "['#']         ['#']\n",
      "['#', '#']         ['#', '#']\n",
      "['#', '#', '#']         ['#', '#', '#']\n",
      "['#', '#', '#', '#']         ['#', '#', '#', '#']\n"
     ]
    }
   ],
   "source": [
    "mylist1=[]\n",
    "mylist2=[]\n",
    "for i in range(1,5):\n",
    "    \n",
    "    mylist1.append(\"#\")\n",
    "    mylist2.append(\"#\")\n",
    "    print(mylist1,\"       \",mylist2)\n",
    "    \n",
    "   \n",
    "    \n"
   ]
  },
  {
   "cell_type": "code",
   "execution_count": null,
   "metadata": {},
   "outputs": [],
   "source": []
  }
 ],
 "metadata": {
  "kernelspec": {
   "display_name": "Python 3",
   "language": "python",
   "name": "python3"
  },
  "language_info": {
   "codemirror_mode": {
    "name": "ipython",
    "version": 3
   },
   "file_extension": ".py",
   "mimetype": "text/x-python",
   "name": "python",
   "nbconvert_exporter": "python",
   "pygments_lexer": "ipython3",
   "version": "3.7.3"
  }
 },
 "nbformat": 4,
 "nbformat_minor": 2
}
